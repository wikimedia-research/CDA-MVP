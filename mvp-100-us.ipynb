{
 "cells": [
  {
   "cell_type": "markdown",
   "metadata": {},
   "source": [
    "Phabricator: [T266714](https://phabricator.wikimedia.org/T266714)\n",
    "\n",
    "MVP specification:\n",
    "\n",
    "- Top 100 pages by traffic from US from English, Chinese, and Spanish Wikipedias over the past 6 months\n",
    "  - Only those pages for which we have at least one topic predicted with 50% or greater score\n",
    "  - Increase to 500 pages and 12 months in next iteration after reviewing performance\n",
    "- Last 6 months of pageviews and edit counts\n",
    "  - Inrease to 12 months in next iteration after reviewing performance\n",
    "- 1 table for view counts, split by access method (desktop vs mobile web vs mobile app) and agent type (user vs spider vs automated)\n",
    "- 1 table for edit counts, split by editor type (registered vs anonymous, registered bot vs human)\n",
    "- Topic data from `isaacj.article_topics_outlinks_2020_09` and `cchen.topic_component`:\n",
    "  - `score` must be 0.5 or greater\n",
    "  - `topics`, `main_topics`, and `sub_topics` (based on [this taxonomy](https://www.mediawiki.org/wiki/ORES/Articletopic))\n",
    "- Daily granularity\n",
    "\n",
    "Steps:\n",
    "\n"
   ]
  },
  {
   "cell_type": "code",
   "execution_count": 1,
   "metadata": {},
   "outputs": [],
   "source": [
    "suppressPackageStartupMessages({\n",
    "    library(purrr)\n",
    "    library(dplyr)\n",
    "    library(tidyr)\n",
    "    library(wmfdata)\n",
    "    library(here)\n",
    "    library(readr) # read/write_rds\n",
    "    library(glue)\n",
    "    library(processx)\n",
    "})"
   ]
  },
  {
   "cell_type": "code",
   "execution_count": 2,
   "metadata": {},
   "outputs": [],
   "source": [
    "fs::dir_create(\"data\")"
   ]
  },
  {
   "cell_type": "code",
   "execution_count": 3,
   "metadata": {},
   "outputs": [],
   "source": [
    "top_viewed_query <- \"USE wmf;\n",
    "SELECT\n",
    "  project, page_id, page_title,\n",
    "  SUM(view_count) AS total_views\n",
    "FROM pageview_hourly\n",
    "WHERE year = 2020 AND month = ${month}\n",
    "  AND project = '${project}'\n",
    "  AND country_code = 'US' -- from United States\n",
    "  AND access_method IN('desktop', 'mobile web', 'mobile app')\n",
    "  AND agent_type = 'user' -- non-automated\n",
    "  AND namespace_id = 0 -- article namespace only\n",
    "  -- exclude main pages (homepages)\n",
    "GROUP BY project, page_id, page_title\n",
    "ORDER BY total_views DESC\n",
    "LIMIT 1000;\"\n",
    "\n",
    "get_top_viewed <- function() {\n",
    "    top_viewed_rds <- here(\"data\", \"top_viewed.rds\")\n",
    "    # Return cached results if possible or fetch-cache-return:\n",
    "    if (fs::file_exists(top_viewed_rds)) {\n",
    "        top_viewed <- read_rds(top_viewed_rds)\n",
    "    } else {\n",
    "        top_viewed <- map_dfr(\n",
    "            c(\"English\" = \"en.wikipedia\", \"Chinese\" = \"zh.wikipedia\", \"Spanish\" = \"es.wikipedia\"),\n",
    "            function(project) {\n",
    "                monthly <- map_dfr(\n",
    "                    5:10,\n",
    "                    function(month) {\n",
    "                        query <- glue(top_viewed_query, .open = \"${\")\n",
    "                        suppressMessages(result <- query_hive(query))\n",
    "                        result$month <- month\n",
    "                        return(result)\n",
    "                    }\n",
    "                )\n",
    "            },\n",
    "            .id = \"wikipedia\"\n",
    "        )\n",
    "        write_rds(top_viewed, top_viewed_rds, compress = \"gz\") # cache query results\n",
    "    }\n",
    "    return(top_viewed)\n",
    "}\n",
    "\n",
    "top_viewed <- get_top_viewed()"
   ]
  },
  {
   "cell_type": "code",
   "execution_count": 4,
   "metadata": {},
   "outputs": [
    {
     "data": {
      "text/html": [
       "<table>\n",
       "<caption>A data.frame: 6 × 6</caption>\n",
       "<thead>\n",
       "\t<tr><th></th><th scope=col>wikipedia</th><th scope=col>project</th><th scope=col>page_id</th><th scope=col>page_title</th><th scope=col>total_views</th><th scope=col>month</th></tr>\n",
       "\t<tr><th></th><th scope=col>&lt;chr&gt;</th><th scope=col>&lt;chr&gt;</th><th scope=col>&lt;int&gt;</th><th scope=col>&lt;chr&gt;</th><th scope=col>&lt;int&gt;</th><th scope=col>&lt;int&gt;</th></tr>\n",
       "</thead>\n",
       "<tbody>\n",
       "\t<tr><th scope=row>1</th><td>English</td><td>en.wikipedia</td><td>15580374</td><td>Main_Page             </td><td>68367614</td><td>5</td></tr>\n",
       "\t<tr><th scope=row>2</th><td>English</td><td>en.wikipedia</td><td>  909036</td><td>Elon_Musk             </td><td> 3376579</td><td>5</td></tr>\n",
       "\t<tr><th scope=row>3</th><td>English</td><td>en.wikipedia</td><td>   20455</td><td>Michael_Jordan        </td><td> 3339421</td><td>5</td></tr>\n",
       "\t<tr><th scope=row>4</th><td>English</td><td>en.wikipedia</td><td>54803678</td><td>Antifa_(United_States)</td><td> 2267750</td><td>5</td></tr>\n",
       "\t<tr><th scope=row>5</th><td>English</td><td>en.wikipedia</td><td>64076090</td><td>Death_of_George_Floyd </td><td> 2033834</td><td>5</td></tr>\n",
       "\t<tr><th scope=row>6</th><td>English</td><td>en.wikipedia</td><td>27419466</td><td>Judy_Mikovits         </td><td> 1985023</td><td>5</td></tr>\n",
       "</tbody>\n",
       "</table>\n"
      ],
      "text/latex": [
       "A data.frame: 6 × 6\n",
       "\\begin{tabular}{r|llllll}\n",
       "  & wikipedia & project & page\\_id & page\\_title & total\\_views & month\\\\\n",
       "  & <chr> & <chr> & <int> & <chr> & <int> & <int>\\\\\n",
       "\\hline\n",
       "\t1 & English & en.wikipedia & 15580374 & Main\\_Page              & 68367614 & 5\\\\\n",
       "\t2 & English & en.wikipedia &   909036 & Elon\\_Musk              &  3376579 & 5\\\\\n",
       "\t3 & English & en.wikipedia &    20455 & Michael\\_Jordan         &  3339421 & 5\\\\\n",
       "\t4 & English & en.wikipedia & 54803678 & Antifa\\_(United\\_States) &  2267750 & 5\\\\\n",
       "\t5 & English & en.wikipedia & 64076090 & Death\\_of\\_George\\_Floyd  &  2033834 & 5\\\\\n",
       "\t6 & English & en.wikipedia & 27419466 & Judy\\_Mikovits          &  1985023 & 5\\\\\n",
       "\\end{tabular}\n"
      ],
      "text/markdown": [
       "\n",
       "A data.frame: 6 × 6\n",
       "\n",
       "| <!--/--> | wikipedia &lt;chr&gt; | project &lt;chr&gt; | page_id &lt;int&gt; | page_title &lt;chr&gt; | total_views &lt;int&gt; | month &lt;int&gt; |\n",
       "|---|---|---|---|---|---|---|\n",
       "| 1 | English | en.wikipedia | 15580374 | Main_Page              | 68367614 | 5 |\n",
       "| 2 | English | en.wikipedia |   909036 | Elon_Musk              |  3376579 | 5 |\n",
       "| 3 | English | en.wikipedia |    20455 | Michael_Jordan         |  3339421 | 5 |\n",
       "| 4 | English | en.wikipedia | 54803678 | Antifa_(United_States) |  2267750 | 5 |\n",
       "| 5 | English | en.wikipedia | 64076090 | Death_of_George_Floyd  |  2033834 | 5 |\n",
       "| 6 | English | en.wikipedia | 27419466 | Judy_Mikovits          |  1985023 | 5 |\n",
       "\n"
      ],
      "text/plain": [
       "  wikipedia project      page_id  page_title             total_views month\n",
       "1 English   en.wikipedia 15580374 Main_Page              68367614    5    \n",
       "2 English   en.wikipedia   909036 Elon_Musk               3376579    5    \n",
       "3 English   en.wikipedia    20455 Michael_Jordan          3339421    5    \n",
       "4 English   en.wikipedia 54803678 Antifa_(United_States)  2267750    5    \n",
       "5 English   en.wikipedia 64076090 Death_of_George_Floyd   2033834    5    \n",
       "6 English   en.wikipedia 27419466 Judy_Mikovits           1985023    5    "
      ]
     },
     "metadata": {},
     "output_type": "display_data"
    }
   ],
   "source": [
    "head(top_viewed)"
   ]
  },
  {
   "cell_type": "code",
   "execution_count": 5,
   "metadata": {},
   "outputs": [],
   "source": [
    "top_viewed <- top_viewed %>%\n",
    "    mutate(\n",
    "        is_mainpage = (\n",
    "            (project == \"en.wikipedia\" & page_title == \"Main_Page\")\n",
    "            | (project == \"zh.wikipedia\" & page_title == \"首页\")\n",
    "            | (project == \"es.wikipedia\" & page_title == \"Portada\")\n",
    "        )\n",
    "    )"
   ]
  },
  {
   "cell_type": "code",
   "execution_count": 6,
   "metadata": {},
   "outputs": [
    {
     "data": {
      "text/html": [
       "<table>\n",
       "<caption>A tibble: 5 × 3</caption>\n",
       "<thead>\n",
       "\t<tr><th scope=col>project</th><th scope=col>is_mainpage</th><th scope=col>pages</th></tr>\n",
       "\t<tr><th scope=col>&lt;chr&gt;</th><th scope=col>&lt;lgl&gt;</th><th scope=col>&lt;int&gt;</th></tr>\n",
       "</thead>\n",
       "<tbody>\n",
       "\t<tr><td>en.wikipedia</td><td>FALSE</td><td>3016</td></tr>\n",
       "\t<tr><td>en.wikipedia</td><td> TRUE</td><td>   1</td></tr>\n",
       "\t<tr><td>es.wikipedia</td><td>FALSE</td><td>2394</td></tr>\n",
       "\t<tr><td>zh.wikipedia</td><td>FALSE</td><td>2370</td></tr>\n",
       "\t<tr><td>zh.wikipedia</td><td> TRUE</td><td>   1</td></tr>\n",
       "</tbody>\n",
       "</table>\n"
      ],
      "text/latex": [
       "A tibble: 5 × 3\n",
       "\\begin{tabular}{lll}\n",
       " project & is\\_mainpage & pages\\\\\n",
       " <chr> & <lgl> & <int>\\\\\n",
       "\\hline\n",
       "\t en.wikipedia & FALSE & 3016\\\\\n",
       "\t en.wikipedia &  TRUE &    1\\\\\n",
       "\t es.wikipedia & FALSE & 2394\\\\\n",
       "\t zh.wikipedia & FALSE & 2370\\\\\n",
       "\t zh.wikipedia &  TRUE &    1\\\\\n",
       "\\end{tabular}\n"
      ],
      "text/markdown": [
       "\n",
       "A tibble: 5 × 3\n",
       "\n",
       "| project &lt;chr&gt; | is_mainpage &lt;lgl&gt; | pages &lt;int&gt; |\n",
       "|---|---|---|\n",
       "| en.wikipedia | FALSE | 3016 |\n",
       "| en.wikipedia |  TRUE |    1 |\n",
       "| es.wikipedia | FALSE | 2394 |\n",
       "| zh.wikipedia | FALSE | 2370 |\n",
       "| zh.wikipedia |  TRUE |    1 |\n",
       "\n"
      ],
      "text/plain": [
       "  project      is_mainpage pages\n",
       "1 en.wikipedia FALSE       3016 \n",
       "2 en.wikipedia  TRUE          1 \n",
       "3 es.wikipedia FALSE       2394 \n",
       "4 zh.wikipedia FALSE       2370 \n",
       "5 zh.wikipedia  TRUE          1 "
      ]
     },
     "metadata": {},
     "output_type": "display_data"
    }
   ],
   "source": [
    "top_viewed %>%\n",
    "    group_by(project, is_mainpage) %>%\n",
    "    summarize(pages = length(unique(page_id)), .groups = \"drop\")"
   ]
  },
  {
   "cell_type": "code",
   "execution_count": 7,
   "metadata": {},
   "outputs": [
    {
     "data": {
      "text/html": [
       "<table>\n",
       "<caption>A tibble: 10 × 2</caption>\n",
       "<thead>\n",
       "\t<tr><th scope=col>page_title</th><th scope=col>total_views</th></tr>\n",
       "\t<tr><th scope=col>&lt;chr&gt;</th><th scope=col>&lt;int&gt;</th></tr>\n",
       "</thead>\n",
       "<tbody>\n",
       "\t<tr><td>Descubrimiento_de_América       </td><td>147452</td></tr>\n",
       "\t<tr><td>Deutsche_Welle                  </td><td>165341</td></tr>\n",
       "\t<tr><td>Estados_Unidos                  </td><td>169822</td></tr>\n",
       "\t<tr><td>Facebook                        </td><td>193269</td></tr>\n",
       "\t<tr><td>Google                          </td><td>270578</td></tr>\n",
       "\t<tr><td>Independencia_de_México         </td><td>199228</td></tr>\n",
       "\t<tr><td>Tabla_periódica_de_los_elementos</td><td>254647</td></tr>\n",
       "\t<tr><td>Traducción                      </td><td>446671</td></tr>\n",
       "\t<tr><td>Zodiaco                         </td><td>222863</td></tr>\n",
       "\t<tr><td>Zodiaco_occidental              </td><td>174776</td></tr>\n",
       "</tbody>\n",
       "</table>\n"
      ],
      "text/latex": [
       "A tibble: 10 × 2\n",
       "\\begin{tabular}{ll}\n",
       " page\\_title & total\\_views\\\\\n",
       " <chr> & <int>\\\\\n",
       "\\hline\n",
       "\t Descubrimiento\\_de\\_América        & 147452\\\\\n",
       "\t Deutsche\\_Welle                   & 165341\\\\\n",
       "\t Estados\\_Unidos                   & 169822\\\\\n",
       "\t Facebook                         & 193269\\\\\n",
       "\t Google                           & 270578\\\\\n",
       "\t Independencia\\_de\\_México          & 199228\\\\\n",
       "\t Tabla\\_periódica\\_de\\_los\\_elementos & 254647\\\\\n",
       "\t Traducción                       & 446671\\\\\n",
       "\t Zodiaco                          & 222863\\\\\n",
       "\t Zodiaco\\_occidental               & 174776\\\\\n",
       "\\end{tabular}\n"
      ],
      "text/markdown": [
       "\n",
       "A tibble: 10 × 2\n",
       "\n",
       "| page_title &lt;chr&gt; | total_views &lt;int&gt; |\n",
       "|---|---|\n",
       "| Descubrimiento_de_América        | 147452 |\n",
       "| Deutsche_Welle                   | 165341 |\n",
       "| Estados_Unidos                   | 169822 |\n",
       "| Facebook                         | 193269 |\n",
       "| Google                           | 270578 |\n",
       "| Independencia_de_México          | 199228 |\n",
       "| Tabla_periódica_de_los_elementos | 254647 |\n",
       "| Traducción                       | 446671 |\n",
       "| Zodiaco                          | 222863 |\n",
       "| Zodiaco_occidental               | 174776 |\n",
       "\n"
      ],
      "text/plain": [
       "   page_title                       total_views\n",
       "1  Descubrimiento_de_América        147452     \n",
       "2  Deutsche_Welle                   165341     \n",
       "3  Estados_Unidos                   169822     \n",
       "4  Facebook                         193269     \n",
       "5  Google                           270578     \n",
       "6  Independencia_de_México          199228     \n",
       "7  Tabla_periódica_de_los_elementos 254647     \n",
       "8  Traducción                       446671     \n",
       "9  Zodiaco                          222863     \n",
       "10 Zodiaco_occidental               174776     "
      ]
     },
     "metadata": {},
     "output_type": "display_data"
    }
   ],
   "source": [
    "top_viewed %>%\n",
    "    filter(project == \"es.wikipedia\") %>%\n",
    "    group_by(page_title) %>%\n",
    "    summarize(total_views = sum(total_views), .groups = \"drop\") %>%\n",
    "    top_n(10, total_views)"
   ]
  },
  {
   "cell_type": "code",
   "execution_count": 8,
   "metadata": {},
   "outputs": [],
   "source": [
    "top_X00 <- top_viewed %>%\n",
    "    group_by(project, is_mainpage, page_id, page_title) %>%\n",
    "    summarize(total_views = sum(total_views), .groups = \"drop\") %>%\n",
    "    group_by(project, is_mainpage) %>%\n",
    "    top_n(500, total_views) %>% # change 100 to 500 later\n",
    "    ungroup"
   ]
  },
  {
   "cell_type": "code",
   "execution_count": 9,
   "metadata": {},
   "outputs": [],
   "source": [
    "top_X00 <- top_X00 %>%\n",
    "    mutate(\n",
    "        wiki_db = case_when(\n",
    "            project == \"en.wikipedia\" ~ \"enwiki\",\n",
    "            project == \"zh.wikipedia\" ~ \"zhwiki\",\n",
    "            project == \"es.wikipedia\" ~ \"eswiki\"\n",
    "        )\n",
    "    )"
   ]
  },
  {
   "cell_type": "code",
   "execution_count": 10,
   "metadata": {},
   "outputs": [],
   "source": [
    "top_X00 %>%\n",
    "    select(project, wiki_db, page_id, page_title) %>%\n",
    "    write_tsv(here(\"data/top_x00.tsv\"), col_names = FALSE)"
   ]
  },
  {
   "cell_type": "code",
   "execution_count": 11,
   "metadata": {},
   "outputs": [
    {
     "data": {
      "text/html": [
       "<dl>\n",
       "\t<dt>$status</dt>\n",
       "\t\t<dd>0</dd>\n",
       "\t<dt>$stdout</dt>\n",
       "\t\t<dd>''</dd>\n",
       "\t<dt>$stderr</dt>\n",
       "\t\t<dd>'log4j:WARN No such property [maxBackupIndex] in org.apache.log4j.DailyRollingFileAppender.\\n\\nLogging initialized using configuration in file:/etc/hive/conf.analytics-hadoop/hive-log4j.properties\\nOK\\nTime taken: 0.963 seconds\\nOK\\nTime taken: 0.31 seconds\\nLoading data to table bearloga.top_viewed\\nOK\\nTime taken: 0.55 seconds\\n'</dd>\n",
       "\t<dt>$timeout</dt>\n",
       "\t\t<dd>FALSE</dd>\n",
       "</dl>\n"
      ],
      "text/latex": [
       "\\begin{description}\n",
       "\\item[\\$status] 0\n",
       "\\item[\\$stdout] ''\n",
       "\\item[\\$stderr] 'log4j:WARN No such property {[}maxBackupIndex{]} in org.apache.log4j.DailyRollingFileAppender.\\textbackslash{}n\\textbackslash{}nLogging initialized using configuration in file:/etc/hive/conf.analytics-hadoop/hive-log4j.properties\\textbackslash{}nOK\\textbackslash{}nTime taken: 0.963 seconds\\textbackslash{}nOK\\textbackslash{}nTime taken: 0.31 seconds\\textbackslash{}nLoading data to table bearloga.top\\_viewed\\textbackslash{}nOK\\textbackslash{}nTime taken: 0.55 seconds\\textbackslash{}n'\n",
       "\\item[\\$timeout] FALSE\n",
       "\\end{description}\n"
      ],
      "text/markdown": [
       "$status\n",
       ":   0\n",
       "$stdout\n",
       ":   ''\n",
       "$stderr\n",
       ":   'log4j:WARN No such property [maxBackupIndex] in org.apache.log4j.DailyRollingFileAppender.\\n\\nLogging initialized using configuration in file:/etc/hive/conf.analytics-hadoop/hive-log4j.properties\\nOK\\nTime taken: 0.963 seconds\\nOK\\nTime taken: 0.31 seconds\\nLoading data to table bearloga.top_viewed\\nOK\\nTime taken: 0.55 seconds\\n'\n",
       "$timeout\n",
       ":   FALSE\n",
       "\n",
       "\n"
      ],
      "text/plain": [
       "$status\n",
       "[1] 0\n",
       "\n",
       "$stdout\n",
       "[1] \"\"\n",
       "\n",
       "$stderr\n",
       "[1] \"log4j:WARN No such property [maxBackupIndex] in org.apache.log4j.DailyRollingFileAppender.\\n\\nLogging initialized using configuration in file:/etc/hive/conf.analytics-hadoop/hive-log4j.properties\\nOK\\nTime taken: 0.963 seconds\\nOK\\nTime taken: 0.31 seconds\\nLoading data to table bearloga.top_viewed\\nOK\\nTime taken: 0.55 seconds\\n\"\n",
       "\n",
       "$timeout\n",
       "[1] FALSE\n"
      ]
     },
     "metadata": {},
     "output_type": "display_data"
    }
   ],
   "source": [
    "run(\"hive\", args = c(\"-f\", \"queries/create_top_viewed.hql\")) # hive -f queries/create_top_viewed.hql"
   ]
  },
  {
   "cell_type": "markdown",
   "metadata": {},
   "source": [
    "To be run on both stat1004 and stat1006:\n",
    "\n",
    "```\n",
    "library(processx)\n",
    "library(glue)\n",
    "library(purrr)\n",
    "```\n",
    "\n",
    "To be run on stat1004:\n",
    "\n",
    "```\n",
    "results <- map_dfr(\n",
    "    5:10,\n",
    "    function(month) {\n",
    "        run(\"hive\", args = c(\"-f\", \"queries/cda_views.hql\", \"-d\", glue(\"month={month}\")))\n",
    "    }\n",
    ")\n",
    "```\n",
    "\n",
    "To be run on stat1006:\n",
    "\n",
    "```\n",
    "results <- map_dfr(\n",
    "    5:10,\n",
    "    function(month) {\n",
    "        run(\"hive\", args = c(\"-f\", \"queries/cda_edits.hql\", \"-d\", \"snapshot=2020-10\", \"-d\", glue(\"month={month}\")))\n",
    "    }\n",
    ")\n",
    "```"
   ]
  },
  {
   "cell_type": "code",
   "execution_count": null,
   "metadata": {},
   "outputs": [],
   "source": []
  }
 ],
 "metadata": {
  "kernelspec": {
   "display_name": "R",
   "language": "R",
   "name": "ir"
  },
  "language_info": {
   "codemirror_mode": "r",
   "file_extension": ".r",
   "mimetype": "text/x-r-source",
   "name": "R",
   "pygments_lexer": "r",
   "version": "3.5.2"
  }
 },
 "nbformat": 4,
 "nbformat_minor": 4
}
